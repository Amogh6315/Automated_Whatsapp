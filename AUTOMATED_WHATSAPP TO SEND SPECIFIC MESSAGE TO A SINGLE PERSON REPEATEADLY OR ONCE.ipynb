{
 "cells": [
  {
   "cell_type": "code",
   "execution_count": null,
   "metadata": {},
   "outputs": [],
   "source": [
    "import time\n",
    "from selenium import webdriver\n",
    "from selenium.webdriver.common.by import By\n",
    "from selenium.webdriver.support.ui import WebDriverWait\n",
    "from selenium.webdriver.support import expected_conditions as EC\n",
    "\n",
    "driver = webdriver.Chrome()  # Optional argument, if not specified will search path.\n",
    "mobile_number = input(\"Enter a Number with country code prefix (India : 911234567890): \")\n",
    "text = str(input(\"Enter the message (Don't Leave extra space): \"))\n",
    "text = text.replace(\" \",\"%20\")\n",
    "count = int(input(\"Enter the number of times you want to send the message : \" ))\n",
    "if(count == 0):\n",
    "    print(\"By default it send the message once\")\n",
    "driver.get(\"https://web.whatsapp.com/send?phone=\"+mobile_number+\"&text=\"+text+\"&source=&data=&app_absent=\")\n",
    "input(\"Press ENTER key after scanning the code : \")\n",
    "print(\"Go back to the browser and leave it open\")\n",
    "try:\n",
    "    element = WebDriverWait(driver, 10).until(\n",
    "                EC.presence_of_element_located((By.CLASS_NAME, \"_35EW6\"))\n",
    "            )\n",
    "finally:\n",
    "    pass\n",
    "submit_button = driver.find_element_by_class_name(\"_35EW6\")\n",
    "submit_button.click()\n",
    "for i in range(0,count-1):\n",
    "    text_box = driver.find_element_by_class_name(\"_2WovP\")\n",
    "    text_box.send_keys(text)\n",
    "    submit_button = driver.find_element_by_class_name(\"_35EW6\")\n",
    "    submit_button.click()\n",
    "print(\"Sent\"+text+\"to\"+mobile_number)    \n",
    "print(\"No of times message sent : \",count)"
   ]
  },
  {
   "cell_type": "code",
   "execution_count": null,
   "metadata": {},
   "outputs": [],
   "source": []
  }
 ],
 "metadata": {
  "kernelspec": {
   "display_name": "Python 3",
   "language": "python",
   "name": "python3"
  },
  "language_info": {
   "codemirror_mode": {
    "name": "ipython",
    "version": 3
   },
   "file_extension": ".py",
   "mimetype": "text/x-python",
   "name": "python",
   "nbconvert_exporter": "python",
   "pygments_lexer": "ipython3",
   "version": "3.7.6"
  }
 },
 "nbformat": 4,
 "nbformat_minor": 4
}
