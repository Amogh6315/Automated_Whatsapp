{
 "cells": [
  {
   "cell_type": "code",
   "execution_count": null,
   "metadata": {},
   "outputs": [],
   "source": [
    "import time\n",
    "import csv\n",
    "from selenium import webdriver\n",
    "from selenium.webdriver.common.by import By\n",
    "from selenium.webdriver.support.ui import WebDriverWait\n",
    "from selenium.webdriver.support import expected_conditions as EC\n",
    "\n",
    "driver = webdriver.Chrome()  # Optional argument, if not specified will search path.\n",
    "print(\"-----------------  WELCOME TO AUTOMATED WHATSAPP MESSAGE SENDER---------------------------------\")\n",
    "print(\"-----------------MAKE SURE YOU HAVE EVERYTHING INSTALLED PROPERLY-------------------------------\")\n",
    "print(\"-------------------SCRIPT SPEED DEPENDS UPON YOUR INTERNET SPEED--------------------------------\")\n",
    "input(\"------------------------------PRESS ENTER TO CONTINUE-------------------------------------------\")\n",
    "\n",
    "\n",
    "text = input(\"Enter the message you want to send\")\n",
    "print(\"Save the .csv file in the same Directory/Folder\")\n",
    "filename = str(input((\"Enter the file name with .csv extension\")))\n",
    "text = text.replace(\" \",\"%20\")\n",
    "driver.get(\"https://web.whatsapp.com\")\n",
    "input(\"Press ENTER key after scanning the code : \")\n",
    "print(\"Go back to the browser and leave it open\")\n",
    "with open(filename,'r') as csvfile:\n",
    "    reader = csv.reader(csvfile, skipinitialspace=True)\n",
    "    next(reader)\n",
    "    for row in reader:\n",
    "        i=0\n",
    "        x=(row[i])\n",
    "        str(x)\n",
    "        \n",
    "        driver.get(\"https://web.whatsapp.com/send?phone=\"+x+\"&text=\"+text+\"&source=&data=&app_absent=\")\n",
    "        try:\n",
    "            element = WebDriverWait(driver, 100).until(\n",
    "                EC.presence_of_element_located((By.CLASS_NAME, \"_35EW6\"))\n",
    "            ) \n",
    "        finally:\n",
    "            pass\n",
    "        submit_button = driver.find_element_by_class_name(\"_35EW6\")\n",
    "        submit_button.click()\n",
    "        print(\"Message Sent to :\"+ x)\n",
    "        i+=1\n",
    "        time.sleep(2)"
   ]
  }
 ],
 "metadata": {
  "kernelspec": {
   "display_name": "Python 3",
   "language": "python",
   "name": "python3"
  },
  "language_info": {
   "codemirror_mode": {
    "name": "ipython",
    "version": 3
   },
   "file_extension": ".py",
   "mimetype": "text/x-python",
   "name": "python",
   "nbconvert_exporter": "python",
   "pygments_lexer": "ipython3",
   "version": "3.7.6"
  }
 },
 "nbformat": 4,
 "nbformat_minor": 4
}
