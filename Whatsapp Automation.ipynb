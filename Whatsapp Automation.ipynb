{
 "cells": [
  {
   "cell_type": "markdown",
   "metadata": {},
   "source": [
    "# WHATSAPP AUTOMATED TO SEND SPECIFIC MESSAGE TO A SINGLE PERSON REPEATEADLY"
   ]
  },
  {
   "cell_type": "code",
   "execution_count": null,
   "metadata": {
    "scrolled": false
   },
   "outputs": [],
   "source": [
    "import time\n",
    "from selenium import webdriver\n",
    "from selenium.webdriver.common.by import By\n",
    "from selenium.webdriver.support.ui import WebDriverWait\n",
    "from selenium.webdriver.support import expected_conditions as EC\n",
    "\n",
    "driver = webdriver.Chrome()  # Optional argument, if not specified will search path.\n",
    "mobile_number = input(\"Enter a Number with country code prefix (India : 911234567890): \")\n",
    "text = str(input(\"Enter the message : \"))\n",
    "text = text.replace(\" \",\"%20\")\n",
    "count = int(input(\"Enter the number of times you want to send the message : \" ))\n",
    "if(count == 0):\n",
    "    print(\"By default it send the message once\")\n",
    "driver.get(\"https://web.whatsapp.com/send?phone=\"+mobile_number+\"&text=\"+text+\"&source=&data=&app_absent=\")\n",
    "input(\"Press Any key after scanning the code : \")\n",
    "print(\"Go back to the browser and leave it open\")\n",
    "try:\n",
    "    element = WebDriverWait(driver, 10).until(\n",
    "                EC.presence_of_element_located((By.CLASS_NAME, \"_35EW6\"))\n",
    "            )\n",
    "finally:\n",
    "    pass\n",
    "submit_button = driver.find_element_by_class_name(\"_35EW6\")\n",
    "submit_button.click()\n",
    "for i in range(0,count-1):\n",
    "    text_box = driver.find_element_by_class_name(\"_2WovP\")\n",
    "    text_box.send_keys(text)\n",
    "    submit_button = driver.find_element_by_class_name(\"_35EW6\")\n",
    "    submit_button.click()\n",
    "print(\"Sent\"+text+\"to\"+mobile_number)    \n",
    "print(\"No of times message sent : \",count)\n",
    "    \n"
   ]
  },
  {
   "cell_type": "markdown",
   "metadata": {},
   "source": [
    "## WHATSAPP AUTOMATION TO SEND TEXT BY SEARCHING FOR A PERSON/GROUP NAME"
   ]
  },
  {
   "cell_type": "code",
   "execution_count": null,
   "metadata": {},
   "outputs": [],
   "source": [
    "import time\n",
    "from selenium import webdriver\n",
    "\n",
    "driver = webdriver.Chrome()  # Optional argument, if not specified will search path.\n",
    "name = str(input(\"Enter the name of person : \"))\n",
    "message = str(input(\"Enter the message : \"))\n",
    "driver.get(\"https://web.whatsapp.com\")\n",
    "time.sleep(15)\n",
    "\n",
    "contact_search = driver.find_element_by_class_name(\"_2S1VP\")\n",
    "contact_search.send_keys(name)\n",
    "time.sleep(5)\n",
    "search = driver.find_element_by_xpath('//span[@title = \"{}\"]'.format(name))\n",
    "search.click()\n",
    "text_box = driver.find_element_by_class_name(\"_2WovP\")\n",
    "text_box.send_keys(message)\n",
    "submit_button = driver.find_element_by_class_name(\"_35EW6\")\n",
    "submit_button.click()\n"
   ]
  },
  {
   "cell_type": "code",
   "execution_count": null,
   "metadata": {},
   "outputs": [],
   "source": [
    "import time\n",
    "from selenium import webdriver\n",
    "\n",
    "driver = webdriver.Chrome()  # Optional argument, if not specified will search path.\n",
    "name = str(input(\"Enter the name of person : \"))\n",
    "message = str(input(\"Enter the message : \"))\n",
    "driver.get(\"https://web.whatsapp.com\")\n",
    "time.sleep(15)\n",
    "\n",
    "contact_search = driver.find_element_by_class_name(\"_2S1VP\")\n",
    "contact_search.send_keys(name)\n",
    "time.sleep(5)\n",
    "search = driver.find_element_by_xpath('//span[@title = \"{}\"]'.format(name))\n",
    "search.click()\n",
    "text_box = driver.find_element_by_class_name(\"_2WovP\")\n",
    "text_box.send_keys(message)\n",
    "submit_button = driver.find_element_by_class_name(\"_35EW6\")\n",
    "submit_button.click()\n"
   ]
  },
  {
   "cell_type": "code",
   "execution_count": null,
   "metadata": {},
   "outputs": [],
   "source": []
  },
  {
   "cell_type": "code",
   "execution_count": 5,
   "metadata": {},
   "outputs": [
    {
     "name": "stdout",
     "output_type": "stream",
     "text": [
      "-----------------  WELCOME TO AUTOMATED WHATSAPP MESSAGE SENDER---------------------------------\n",
      "-----------------MAKE SURE YOU HAVE EVERYTHING INSTALLED PROPERLY-------------------------------\n",
      "------------------------------PRESS ENTER TO CONTINUE-------------------------------------------\n",
      "Enter the message you want to sendHELLO WORLD\n",
      "Save the .csv file in the same Directory/Folder\n",
      "Enter the file name with .csv extensionnumber.csv\n",
      "Press ENTER key after scanning the code : \n",
      "Go back to the browser and leave it open\n",
      "Message Sent to :919852902206\n",
      "Message Sent to :919852902206\n"
     ]
    }
   ],
   "source": [
    "import time\n",
    "import csv\n",
    "from selenium import webdriver\n",
    "from selenium.webdriver.common.by import By\n",
    "from selenium.webdriver.support.ui import WebDriverWait\n",
    "from selenium.webdriver.support import expected_conditions as EC\n",
    "\n",
    "driver = webdriver.Chrome()  # Optional argument, if not specified will search path.\n",
    "print(\"-----------------  WELCOME TO AUTOMATED WHATSAPP MESSAGE SENDER---------------------------------\")\n",
    "print(\"-----------------MAKE SURE YOU HAVE EVERYTHING INSTALLED PROPERLY-------------------------------\")\n",
    "print(\"-------------------SCRIPT SPEED DEPENDS UPON YOUR INTERNET SPEED--------------------------------\")\n",
    "input(\"------------------------------PRESS ENTER TO CONTINUE-------------------------------------------\")\n",
    "\n",
    "\n",
    "text = input(\"Enter the message you want to send\")\n",
    "print(\"Save the .csv file in the same Directory/Folder\")\n",
    "filename = str(input((\"Enter the file name with .csv extension\")))\n",
    "text = text.replace(\" \",\"%20\")\n",
    "driver.get(\"https://web.whatsapp.com\")\n",
    "input(\"Press ENTER key after scanning the code : \")\n",
    "print(\"Go back to the browser and leave it open\")\n",
    "with open(filename,'r') as csvfile:\n",
    "    reader = csv.reader(csvfile, skipinitialspace=True)\n",
    "    next(reader)\n",
    "    for row in reader:\n",
    "        i=0\n",
    "        x=(row[i])\n",
    "        str(x)\n",
    "        \n",
    "        driver.get(\"https://web.whatsapp.com/send?phone=\"+x+\"&text=\"+text+\"&source=&data=&app_absent=\")\n",
    "        try:\n",
    "            element = WebDriverWait(driver, 100).until(\n",
    "                EC.presence_of_element_located((By.CLASS_NAME, \"_35EW6\"))\n",
    "            ) \n",
    "        finally:\n",
    "            pass\n",
    "        submit_button = driver.find_element_by_class_name(\"_35EW6\")\n",
    "        submit_button.click()\n",
    "        print(\"Message Sent to :\"+ x)\n",
    "        i+=1\n",
    "        time.sleep(2)"
   ]
  },
  {
   "cell_type": "code",
   "execution_count": null,
   "metadata": {},
   "outputs": [],
   "source": [
    "\n",
    "\n"
   ]
  },
  {
   "cell_type": "code",
   "execution_count": null,
   "metadata": {},
   "outputs": [],
   "source": []
  }
 ],
 "metadata": {
  "kernelspec": {
   "display_name": "Python 3",
   "language": "python",
   "name": "python3"
  },
  "language_info": {
   "codemirror_mode": {
    "name": "ipython",
    "version": 3
   },
   "file_extension": ".py",
   "mimetype": "text/x-python",
   "name": "python",
   "nbconvert_exporter": "python",
   "pygments_lexer": "ipython3",
   "version": "3.7.6"
  }
 },
 "nbformat": 4,
 "nbformat_minor": 4
}
